{
 "cells": [
  {
   "cell_type": "code",
   "execution_count": 455,
   "metadata": {},
   "outputs": [],
   "source": [
    "import gensim\n",
    "from gensim.models import Word2Vec\n",
    "from gensim.test.utils import common_texts, get_tmpfile\n",
    "import nltk\n",
    "from nltk.data import find\n",
    "from nltk.corpus import brown, movie_reviews, treebank, wordnet\n",
    "from nltk.corpus import wordnet as wn"
   ]
  },
  {
   "cell_type": "code",
   "execution_count": 456,
   "metadata": {},
   "outputs": [
    {
     "name": "stderr",
     "output_type": "stream",
     "text": [
      "[nltk_data] Downloading package word2vec_sample to\n",
      "[nltk_data]     /home/davidfan/nltk_data...\n",
      "[nltk_data]   Package word2vec_sample is already up-to-date!\n"
     ]
    }
   ],
   "source": [
    "nltk.download('word2vec_sample')\n",
    "word2vec_sample = str(find('models/word2vec_sample/pruned.word2vec.txt'))"
   ]
  },
  {
   "cell_type": "code",
   "execution_count": 457,
   "metadata": {},
   "outputs": [
    {
     "name": "stdout",
     "output_type": "stream",
     "text": [
      "0.31183848\n",
      "0.33855814\n"
     ]
    }
   ],
   "source": [
    "model = gensim.models.KeyedVectors.load_word2vec_format(word2vec_sample, binary=False)\n",
    "model.most_similar(positive=['university'], topn = 3)\n",
    "print(model.similarity('under','below'))\n",
    "print(model.similarity('under','above'))"
   ]
  },
  {
   "cell_type": "code",
   "execution_count": 458,
   "metadata": {},
   "outputs": [],
   "source": [
    "position_list = [\n",
    "      'left',\n",
    "      'right',\n",
    "      'above',\n",
    "      'below',\n",
    "      'inside',\n",
    "      'surrounding']\n"
   ]
  },
  {
   "cell_type": "code",
   "execution_count": 459,
   "metadata": {},
   "outputs": [],
   "source": [
    "model = gensim.models.KeyedVectors.load_word2vec_format(word2vec_sample, binary=False)"
   ]
  },
  {
   "cell_type": "code",
   "execution_count": 484,
   "metadata": {},
   "outputs": [
    {
     "name": "stdout",
     "output_type": "stream",
     "text": [
      "[['allow', 'lead', 'depart', 'provide', 'impart', 'remaining', 'entrust', 'exit', 'give', 'unexpended', 'leftfield', 'left', 'odd', 'result', 'will', 'leave', 'forget'], ['rightfield', 'correctly', 'ripe', 'properly', 'redress', 'mighty', 'flop', 'mightily', 'veracious', 'justly', 'correct', 'compensate', 'proper', 'right', 'decent', 'good', 'decently', 'powerful'], ['above', 'supra'], ['downstairs', 'below', 'beneath', 'infra', 'under'], ['inwardly', 'within', 'inside', 'interior', 'indoors', 'inner', 'privileged'], ['besiege', 'wall', 'surround', 'skirt', 'fence', 'surrounding', 'ring', 'border']]\n"
     ]
    }
   ],
   "source": [
    "wn.synsets('surrounding')[0].lemma_names()\n",
    "x = []\n",
    "y = []\n",
    "posi_lists = []\n",
    "for i in range(len(position_list)):\n",
    "  tmp_lists = []\n",
    "  numberofsyn = len(wn.synsets(position_list[i]))\n",
    "  for j in range(numberofsyn):\n",
    "    for w in wn.synsets(position_list[i])[j].lemma_names():\n",
    "      if '_' not in w and w in model:\n",
    "        tmp_lists.append(w)\n",
    "        x.append(model[w])\n",
    "        y.append(i)\n",
    "  posi_lists.append(list(set(tmp_lists)))\n",
    "print((posi_lists))"
   ]
  },
  {
   "cell_type": "code",
   "execution_count": 485,
   "metadata": {},
   "outputs": [
    {
     "name": "stdout",
     "output_type": "stream",
     "text": [
      "(139, 50)\n",
      "(139, 2)\n"
     ]
    },
    {
     "data": {
      "image/png": "[encoded data removed]",
      "text/plain": [
       "<Figure size 576x576 with 1 Axes>"
      ]
     },
     "metadata": {
      "needs_background": "light"
     },
     "output_type": "display_data"
    }
   ],
   "source": [
    "from sklearn import svm\n",
    "import numpy as np\n",
    "import matplotlib.pyplot as plt\n",
    "from sklearn.decomposition import PCA\n",
    "from sklearn.manifold import TSNE\n",
    "pca = PCA(n_components=50)\n",
    "pca.fit(x)\n",
    "\n",
    "x = pca.transform(x)\n",
    "x = np.array(x)\n",
    "y = np.array(y)\n",
    "print(x.shape)\n",
    "x = TSNE(n_components=2).fit_transform(x)\n",
    "print(x.shape)\n",
    "fig = plt.figure(figsize = (8,8))\n",
    "colors = ['r', 'g', 'b', 'y', 'c', 'g']\n",
    "ax = fig.add_subplot(1,1,1) \n",
    "ax.set_xlabel('Principal Component 1', fontsize = 15)\n",
    "ax.set_ylabel('Principal Component 2', fontsize = 15)\n",
    "ax.set_title('t-SNE (50 component PCA)', fontsize = 20)\n",
    "for loc, color_id in zip(x,y):\n",
    "  ax.scatter(loc[0], loc[1], c = colors[color_id])\n",
    "ax.grid()\n",
    "plt.savefig('./t-50.png')"
   ]
  },
  {
   "cell_type": "code",
   "execution_count": 448,
   "metadata": {},
   "outputs": [
    {
     "name": "stderr",
     "output_type": "stream",
     "text": [
      "/home/davidfan/VLL/T2I_general/env/lib/python3.6/site-packages/sklearn/svm/base.py:193: FutureWarning: The default value of gamma will change from 'auto' to 'scale' in version 0.22 to account better for unscaled features. Set gamma explicitly to 'auto' or 'scale' to avoid this warning.\n",
      "  \"avoid this warning.\", FutureWarning)\n"
     ]
    },
    {
     "data": {
      "text/plain": [
       "SVC(C=1.0, cache_size=200, class_weight=None, coef0=0.0,\n",
       "    decision_function_shape='ovr', degree=3, gamma='auto_deprecated',\n",
       "    kernel='rbf', max_iter=-1, probability=False, random_state=None,\n",
       "    shrinking=True, tol=0.001, verbose=False)"
      ]
     },
     "execution_count": 448,
     "metadata": {},
     "output_type": "execute_result"
    }
   ],
   "source": [
    "clf = svm.SVC()\n",
    "clf.fit(x, y)"
   ]
  },
  {
   "cell_type": "code",
   "execution_count": 453,
   "metadata": {},
   "outputs": [],
   "source": [
    "test = ['left']\n",
    "for i in range(len(test)):\n",
    "  if i == 0:\n",
    "    tmp = np.array(model[test[i]])\n",
    "  else:\n",
    "    tmp = tmp + np.array(model[test[i]])\n",
    "# tmp = np.array([tmp,tmp])\n"
   ]
  },
  {
   "cell_type": "code",
   "execution_count": 454,
   "metadata": {},
   "outputs": [
    {
     "name": "stdout",
     "output_type": "stream",
     "text": [
      "[0]\n"
     ]
    }
   ],
   "source": [
    "# print(tmp)\n",
    "tmp = pca.transform(tmp.reshape(1,-1))\n",
    "print(clf.predict(tmp))\n",
    "# print(clf.support_vectors_)"
   ]
  },
  {
   "cell_type": "code",
   "execution_count": null,
   "metadata": {},
   "outputs": [],
   "source": []
  },
  {
   "cell_type": "code",
   "execution_count": null,
   "metadata": {},
   "outputs": [],
   "source": []
  },
  {
   "cell_type": "code",
   "execution_count": null,
   "metadata": {},
   "outputs": [],
   "source": []
  },
  {
   "cell_type": "code",
   "execution_count": null,
   "metadata": {},
   "outputs": [],
   "source": []
  }
 ],
 "metadata": {
  "kernelspec": {
   "display_name": "Python (T2I)",
   "language": "python",
   "name": "env"
  },
  "language_info": {
   "codemirror_mode": {
    "name": "ipython",
    "version": 3
   },
   "file_extension": ".py",
   "mimetype": "text/x-python",
   "name": "python",
   "nbconvert_exporter": "python",
   "pygments_lexer": "ipython3",
   "version": "3.6.8"
  }
 },
 "nbformat": 4,
 "nbformat_minor": 2
}
